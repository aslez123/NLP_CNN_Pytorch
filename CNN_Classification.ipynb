{
 "cells": [
  {
   "cell_type": "code",
   "execution_count": 1,
   "id": "c7bc53e9",
   "metadata": {},
   "outputs": [],
   "source": [
    "import pandas as pd\n",
    "import numpy as np\n",
    "import torch"
   ]
  },
  {
   "cell_type": "code",
   "execution_count": 2,
   "id": "eb8de88f",
   "metadata": {},
   "outputs": [],
   "source": [
    "english = open('./data/english.txt').read()\n",
    "finnish = open('./data/finnish.txt').read()\n",
    "german = open('./data/german.txt').read()\n",
    "italian = open('./data/italian.txt').read()\n",
    "polish = open('./data/polish.txt').read()\n",
    "spanish = open('./data/spanish.txt').read()"
   ]
  },
  {
   "cell_type": "code",
   "execution_count": 3,
   "id": "d428f24f",
   "metadata": {},
   "outputs": [
    {
     "data": {
      "text/plain": [
       "\"Harry Potter and the Sorcerer's Stone\\n\\n\\nCHAPTER ONE\\n\\nTHE BOY WHO LIVED\\n\\nMr. and Mrs. Dursley, of number four, Privet Drive, were proud to say\\nthat they were perfectly normal, thank you very much. They were the last\\npeople you'd expect to be involved in anything strange or mysterious,\\nbecause they just didn't hold with such nonsense.\\n\\nMr. Dursley was the director of a firm called Grunnings, which made\\ndrills. He was a big, beefy man with hardly any neck, although he did\\nhave a very large mustache. Mrs. Dursley was thin and blonde and had\\nnearly twice the usual amount of neck, which came in very useful as she\\nspent so much of her time craning over garden fences, spying on the\\nneighbors. The Dursleys had a small son called Dudley and in their\\nopinion there was no finer boy anywhere.\\n\\nThe Dursleys had everything they wanted, but they also had a secret, and\\ntheir greatest fear was that somebody would discover it. They didn't\\nthink they could bear it if anyone found out about the Potters. Mrs.\\nPotter was Mrs. Dursley's sister, but they hadn't met for several years;\\nin fact, Mrs. Dursley pretended she didn't have a sister, because her\\nsister and her good-for-nothing husband were as unDursleyish as it was\\npossible to be. The Dursleys shuddered to think what the neighbors would\\nsay if the Potters arrived in the street. The Dursleys knew that the\\nPotters had a small son, too, but they had never even seen him. This boy\\nwas another good reason for keeping the Potters away; they didn't want\\nDudley mixing with a child like that.\\n\\nWhen Mr. and Mrs. Dursley woke up on the dull, gray Tuesday our story\\nstarts, there was nothing about the cloudy sky outside to suggest that\\nstrange and mysterious things would soon be happening all over the\\ncountry. Mr. Dursley hummed as he picked out his most boring tie for\\nwork, and Mrs. Dursley gossiped away happily as she wrestled a screaming\\nDudley into his high chair.\\n\\nNone of them noticed a large, tawny owl flutter past the window.\\n\\nAt half past \""
      ]
     },
     "execution_count": 3,
     "metadata": {},
     "output_type": "execute_result"
    }
   ],
   "source": [
    "english[:2000]"
   ]
  },
  {
   "cell_type": "code",
   "execution_count": 4,
   "id": "9a386663",
   "metadata": {},
   "outputs": [],
   "source": [
    "def to_df(txt, label):\n",
    "    parsedData = txt.split('\\n\\n')\n",
    "    df = pd.DataFrame({'text':parsedData,\n",
    "                      'label': label})\n",
    "\n",
    "    return df"
   ]
  },
  {
   "cell_type": "code",
   "execution_count": 5,
   "id": "1d2a7099",
   "metadata": {},
   "outputs": [],
   "source": [
    "dataframes = [to_df(english, 'english'), to_df(finnish, 'finnish'), to_df(german, 'german'), to_df(polish, 'polish'), to_df(italian, 'italian'),to_df(spanish, 'spanish')]"
   ]
  },
  {
   "cell_type": "code",
   "execution_count": 6,
   "id": "faf81c93",
   "metadata": {},
   "outputs": [],
   "source": [
    "df = pd.concat(dataframes)"
   ]
  },
  {
   "cell_type": "code",
   "execution_count": 7,
   "id": "d1539fb8",
   "metadata": {},
   "outputs": [
    {
     "data": {
      "text/html": [
       "<div>\n",
       "<style scoped>\n",
       "    .dataframe tbody tr th:only-of-type {\n",
       "        vertical-align: middle;\n",
       "    }\n",
       "\n",
       "    .dataframe tbody tr th {\n",
       "        vertical-align: top;\n",
       "    }\n",
       "\n",
       "    .dataframe thead th {\n",
       "        text-align: right;\n",
       "    }\n",
       "</style>\n",
       "<table border=\"1\" class=\"dataframe\">\n",
       "  <thead>\n",
       "    <tr style=\"text-align: right;\">\n",
       "      <th></th>\n",
       "      <th>text</th>\n",
       "      <th>label</th>\n",
       "    </tr>\n",
       "  </thead>\n",
       "  <tbody>\n",
       "    <tr>\n",
       "      <th>0</th>\n",
       "      <td>Harry Potter and the Sorcerer's Stone</td>\n",
       "      <td>english</td>\n",
       "    </tr>\n",
       "    <tr>\n",
       "      <th>1</th>\n",
       "      <td>\\nCHAPTER ONE</td>\n",
       "      <td>english</td>\n",
       "    </tr>\n",
       "    <tr>\n",
       "      <th>2</th>\n",
       "      <td>THE BOY WHO LIVED</td>\n",
       "      <td>english</td>\n",
       "    </tr>\n",
       "    <tr>\n",
       "      <th>3</th>\n",
       "      <td>Mr. and Mrs. Dursley, of number four, Privet D...</td>\n",
       "      <td>english</td>\n",
       "    </tr>\n",
       "    <tr>\n",
       "      <th>4</th>\n",
       "      <td>Mr. Dursley was the director of a firm called ...</td>\n",
       "      <td>english</td>\n",
       "    </tr>\n",
       "    <tr>\n",
       "      <th>...</th>\n",
       "      <td>...</td>\n",
       "      <td>...</td>\n",
       "    </tr>\n",
       "    <tr>\n",
       "      <th>14</th>\n",
       "      <td>El Romanticismo inició la interpretación figur...</td>\n",
       "      <td>spanish</td>\n",
       "    </tr>\n",
       "    <tr>\n",
       "      <th>15</th>\n",
       "      <td>Durante el siglo xix, el personaje cervantino ...</td>\n",
       "      <td>spanish</td>\n",
       "    </tr>\n",
       "    <tr>\n",
       "      <th>16</th>\n",
       "      <td>La primera parte supone un avance considerable...</td>\n",
       "      <td>spanish</td>\n",
       "    </tr>\n",
       "    <tr>\n",
       "      <th>17</th>\n",
       "      <td>La segunda parte es más barroca que manierista...</td>\n",
       "      <td>spanish</td>\n",
       "    </tr>\n",
       "    <tr>\n",
       "      <th>18</th>\n",
       "      <td>Como primera novela verdaderamente realista, a...</td>\n",
       "      <td>spanish</td>\n",
       "    </tr>\n",
       "  </tbody>\n",
       "</table>\n",
       "<p>12141 rows × 2 columns</p>\n",
       "</div>"
      ],
      "text/plain": [
       "                                                 text    label\n",
       "0               Harry Potter and the Sorcerer's Stone  english\n",
       "1                                       \\nCHAPTER ONE  english\n",
       "2                                   THE BOY WHO LIVED  english\n",
       "3   Mr. and Mrs. Dursley, of number four, Privet D...  english\n",
       "4   Mr. Dursley was the director of a firm called ...  english\n",
       "..                                                ...      ...\n",
       "14  El Romanticismo inició la interpretación figur...  spanish\n",
       "15  Durante el siglo xix, el personaje cervantino ...  spanish\n",
       "16  La primera parte supone un avance considerable...  spanish\n",
       "17  La segunda parte es más barroca que manierista...  spanish\n",
       "18  Como primera novela verdaderamente realista, a...  spanish\n",
       "\n",
       "[12141 rows x 2 columns]"
      ]
     },
     "execution_count": 7,
     "metadata": {},
     "output_type": "execute_result"
    }
   ],
   "source": [
    "df"
   ]
  },
  {
   "cell_type": "code",
   "execution_count": 8,
   "id": "9bec1da9",
   "metadata": {},
   "outputs": [],
   "source": [
    "categories = ['english', 'finnish', 'german', 'polish', 'italian', 'spanish']\n",
    "values = []\n",
    "for lab in categories:\n",
    "    values.append(len(df[df['label'] == str(lab)]))"
   ]
  },
  {
   "cell_type": "code",
   "execution_count": 9,
   "id": "c9fedcee",
   "metadata": {},
   "outputs": [
    {
     "data": {
      "text/plain": [
       "[10264, 19, 14, 401, 1424, 19]"
      ]
     },
     "execution_count": 9,
     "metadata": {},
     "output_type": "execute_result"
    }
   ],
   "source": [
    "values"
   ]
  },
  {
   "cell_type": "code",
   "execution_count": 10,
   "id": "15b32fe5",
   "metadata": {},
   "outputs": [
    {
     "data": {
      "image/png": "[encoded data removed]",
      "text/plain": [
       "<Figure size 432x288 with 1 Axes>"
      ]
     },
     "metadata": {
      "needs_background": "light"
     },
     "output_type": "display_data"
    }
   ],
   "source": [
    "import matplotlib.pyplot as plt\n",
    "\n",
    "plt.bar(categories, values)\n",
    "\n",
    "plt.xlabel('Categories')\n",
    "plt.ylabel('Number of values')\n",
    "plt.title('Plot')\n",
    "\n",
    "plt.show()"
   ]
  },
  {
   "cell_type": "code",
   "execution_count": 11,
   "id": "357ce1b5",
   "metadata": {},
   "outputs": [
    {
     "name": "stdout",
     "output_type": "stream",
     "text": [
      "Number of null in label: 0\n",
      "Number of null in text: 0\n"
     ]
    }
   ],
   "source": [
    "print(\"Number of null in label: {}\".format(df['label'].isnull().sum()))\n",
    "print(\"Number of null in text: {}\".format(df['text'].isnull().sum()))"
   ]
  },
  {
   "cell_type": "code",
   "execution_count": 12,
   "id": "fa1fdf23",
   "metadata": {},
   "outputs": [
    {
     "data": {
      "text/plain": [
       "'!\"#$%&\\'()*+,-./:;<=>?@[\\\\]^_`{|}~'"
      ]
     },
     "execution_count": 12,
     "metadata": {},
     "output_type": "execute_result"
    }
   ],
   "source": [
    "import re\n",
    "import string\n",
    "string.punctuation"
   ]
  },
  {
   "cell_type": "code",
   "execution_count": 13,
   "id": "31874db5",
   "metadata": {},
   "outputs": [
    {
     "data": {
      "text/html": [
       "<div>\n",
       "<style scoped>\n",
       "    .dataframe tbody tr th:only-of-type {\n",
       "        vertical-align: middle;\n",
       "    }\n",
       "\n",
       "    .dataframe tbody tr th {\n",
       "        vertical-align: top;\n",
       "    }\n",
       "\n",
       "    .dataframe thead th {\n",
       "        text-align: right;\n",
       "    }\n",
       "</style>\n",
       "<table border=\"1\" class=\"dataframe\">\n",
       "  <thead>\n",
       "    <tr style=\"text-align: right;\">\n",
       "      <th></th>\n",
       "      <th>text</th>\n",
       "      <th>label</th>\n",
       "    </tr>\n",
       "  </thead>\n",
       "  <tbody>\n",
       "    <tr>\n",
       "      <th>0</th>\n",
       "      <td>Harry Potter and the Sorcerer's Stone</td>\n",
       "      <td>english</td>\n",
       "    </tr>\n",
       "    <tr>\n",
       "      <th>1</th>\n",
       "      <td>\\nCHAPTER ONE</td>\n",
       "      <td>english</td>\n",
       "    </tr>\n",
       "    <tr>\n",
       "      <th>2</th>\n",
       "      <td>THE BOY WHO LIVED</td>\n",
       "      <td>english</td>\n",
       "    </tr>\n",
       "    <tr>\n",
       "      <th>3</th>\n",
       "      <td>Mr. and Mrs. Dursley, of number four, Privet D...</td>\n",
       "      <td>english</td>\n",
       "    </tr>\n",
       "    <tr>\n",
       "      <th>4</th>\n",
       "      <td>Mr. Dursley was the director of a firm called ...</td>\n",
       "      <td>english</td>\n",
       "    </tr>\n",
       "    <tr>\n",
       "      <th>...</th>\n",
       "      <td>...</td>\n",
       "      <td>...</td>\n",
       "    </tr>\n",
       "    <tr>\n",
       "      <th>14</th>\n",
       "      <td>El Romanticismo inició la interpretación figur...</td>\n",
       "      <td>spanish</td>\n",
       "    </tr>\n",
       "    <tr>\n",
       "      <th>15</th>\n",
       "      <td>Durante el siglo xix, el personaje cervantino ...</td>\n",
       "      <td>spanish</td>\n",
       "    </tr>\n",
       "    <tr>\n",
       "      <th>16</th>\n",
       "      <td>La primera parte supone un avance considerable...</td>\n",
       "      <td>spanish</td>\n",
       "    </tr>\n",
       "    <tr>\n",
       "      <th>17</th>\n",
       "      <td>La segunda parte es más barroca que manierista...</td>\n",
       "      <td>spanish</td>\n",
       "    </tr>\n",
       "    <tr>\n",
       "      <th>18</th>\n",
       "      <td>Como primera novela verdaderamente realista, a...</td>\n",
       "      <td>spanish</td>\n",
       "    </tr>\n",
       "  </tbody>\n",
       "</table>\n",
       "<p>12141 rows × 2 columns</p>\n",
       "</div>"
      ],
      "text/plain": [
       "                                                 text    label\n",
       "0               Harry Potter and the Sorcerer's Stone  english\n",
       "1                                       \\nCHAPTER ONE  english\n",
       "2                                   THE BOY WHO LIVED  english\n",
       "3   Mr. and Mrs. Dursley, of number four, Privet D...  english\n",
       "4   Mr. Dursley was the director of a firm called ...  english\n",
       "..                                                ...      ...\n",
       "14  El Romanticismo inició la interpretación figur...  spanish\n",
       "15  Durante el siglo xix, el personaje cervantino ...  spanish\n",
       "16  La primera parte supone un avance considerable...  spanish\n",
       "17  La segunda parte es más barroca que manierista...  spanish\n",
       "18  Como primera novela verdaderamente realista, a...  spanish\n",
       "\n",
       "[12141 rows x 2 columns]"
      ]
     },
     "execution_count": 13,
     "metadata": {},
     "output_type": "execute_result"
    }
   ],
   "source": [
    "df"
   ]
  },
  {
   "cell_type": "code",
   "execution_count": 14,
   "id": "76f6ad2d",
   "metadata": {},
   "outputs": [],
   "source": [
    "def clean_text(text):\n",
    "    text_nopunct = \"\".join([char for char in text if char not in string.punctuation])\n",
    "    text_nopunct = text_nopunct.replace('\\n', \"\")\n",
    "    no_num = \"\".join([char for char in text_nopunct if char not in '0123456789ˇ'])\n",
    "    low_text = no_num.lower()\n",
    "    tokens = re.split('\\W+', low_text)\n",
    "    return tokens"
   ]
  },
  {
   "cell_type": "code",
   "execution_count": 15,
   "id": "e692fcea",
   "metadata": {},
   "outputs": [],
   "source": [
    "df['clean_text'] = df['text'].apply(lambda x: clean_text(x))"
   ]
  },
  {
   "cell_type": "code",
   "execution_count": 16,
   "id": "231235a4",
   "metadata": {},
   "outputs": [
    {
     "data": {
      "text/html": [
       "<div>\n",
       "<style scoped>\n",
       "    .dataframe tbody tr th:only-of-type {\n",
       "        vertical-align: middle;\n",
       "    }\n",
       "\n",
       "    .dataframe tbody tr th {\n",
       "        vertical-align: top;\n",
       "    }\n",
       "\n",
       "    .dataframe thead th {\n",
       "        text-align: right;\n",
       "    }\n",
       "</style>\n",
       "<table border=\"1\" class=\"dataframe\">\n",
       "  <thead>\n",
       "    <tr style=\"text-align: right;\">\n",
       "      <th></th>\n",
       "      <th>text</th>\n",
       "      <th>label</th>\n",
       "      <th>clean_text</th>\n",
       "    </tr>\n",
       "  </thead>\n",
       "  <tbody>\n",
       "    <tr>\n",
       "      <th>0</th>\n",
       "      <td>Harry Potter and the Sorcerer's Stone</td>\n",
       "      <td>english</td>\n",
       "      <td>[harry, potter, and, the, sorcerers, stone]</td>\n",
       "    </tr>\n",
       "    <tr>\n",
       "      <th>1</th>\n",
       "      <td>\\nCHAPTER ONE</td>\n",
       "      <td>english</td>\n",
       "      <td>[chapter, one]</td>\n",
       "    </tr>\n",
       "    <tr>\n",
       "      <th>2</th>\n",
       "      <td>THE BOY WHO LIVED</td>\n",
       "      <td>english</td>\n",
       "      <td>[the, boy, who, lived]</td>\n",
       "    </tr>\n",
       "    <tr>\n",
       "      <th>3</th>\n",
       "      <td>Mr. and Mrs. Dursley, of number four, Privet D...</td>\n",
       "      <td>english</td>\n",
       "      <td>[mr, and, mrs, dursley, of, number, four, priv...</td>\n",
       "    </tr>\n",
       "    <tr>\n",
       "      <th>4</th>\n",
       "      <td>Mr. Dursley was the director of a firm called ...</td>\n",
       "      <td>english</td>\n",
       "      <td>[mr, dursley, was, the, director, of, a, firm,...</td>\n",
       "    </tr>\n",
       "  </tbody>\n",
       "</table>\n",
       "</div>"
      ],
      "text/plain": [
       "                                                text    label  \\\n",
       "0              Harry Potter and the Sorcerer's Stone  english   \n",
       "1                                      \\nCHAPTER ONE  english   \n",
       "2                                  THE BOY WHO LIVED  english   \n",
       "3  Mr. and Mrs. Dursley, of number four, Privet D...  english   \n",
       "4  Mr. Dursley was the director of a firm called ...  english   \n",
       "\n",
       "                                          clean_text  \n",
       "0        [harry, potter, and, the, sorcerers, stone]  \n",
       "1                                     [chapter, one]  \n",
       "2                             [the, boy, who, lived]  \n",
       "3  [mr, and, mrs, dursley, of, number, four, priv...  \n",
       "4  [mr, dursley, was, the, director, of, a, firm,...  "
      ]
     },
     "execution_count": 16,
     "metadata": {},
     "output_type": "execute_result"
    }
   ],
   "source": [
    "df.head()"
   ]
  },
  {
   "cell_type": "code",
   "execution_count": 17,
   "id": "d4a40e89",
   "metadata": {},
   "outputs": [],
   "source": [
    "import nltk\n",
    "\n",
    "def remove_stopwords(text):\n",
    "    text = [word for word in text if word not in stopword]\n",
    "    return text"
   ]
  },
  {
   "cell_type": "code",
   "execution_count": 18,
   "id": "8c12566f",
   "metadata": {},
   "outputs": [],
   "source": [
    "dataframes=[]\n",
    "for language in categories:\n",
    "    if language == 'polish':\n",
    "        stopword = []\n",
    "    else:\n",
    "        stopword = nltk.corpus.stopwords.words(str(language))\n",
    "    dataframes.append(df.loc[df['label'] == str(language)]['clean_text'].apply(lambda x: remove_stopwords(x)))"
   ]
  },
  {
   "cell_type": "code",
   "execution_count": 19,
   "id": "717a2381",
   "metadata": {},
   "outputs": [],
   "source": [
    "dataframes = pd.concat(dataframes)"
   ]
  },
  {
   "cell_type": "code",
   "execution_count": 20,
   "id": "96193205",
   "metadata": {},
   "outputs": [],
   "source": [
    "df['clean_data'] = dataframes "
   ]
  },
  {
   "cell_type": "code",
   "execution_count": 21,
   "id": "d3065f33",
   "metadata": {},
   "outputs": [
    {
     "data": {
      "text/html": [
       "<div>\n",
       "<style scoped>\n",
       "    .dataframe tbody tr th:only-of-type {\n",
       "        vertical-align: middle;\n",
       "    }\n",
       "\n",
       "    .dataframe tbody tr th {\n",
       "        vertical-align: top;\n",
       "    }\n",
       "\n",
       "    .dataframe thead th {\n",
       "        text-align: right;\n",
       "    }\n",
       "</style>\n",
       "<table border=\"1\" class=\"dataframe\">\n",
       "  <thead>\n",
       "    <tr style=\"text-align: right;\">\n",
       "      <th></th>\n",
       "      <th>text</th>\n",
       "      <th>label</th>\n",
       "      <th>clean_text</th>\n",
       "      <th>clean_data</th>\n",
       "    </tr>\n",
       "  </thead>\n",
       "  <tbody>\n",
       "    <tr>\n",
       "      <th>0</th>\n",
       "      <td>Harry Potter and the Sorcerer's Stone</td>\n",
       "      <td>english</td>\n",
       "      <td>[harry, potter, and, the, sorcerers, stone]</td>\n",
       "      <td>[harry, potter, sorcerers, stone]</td>\n",
       "    </tr>\n",
       "    <tr>\n",
       "      <th>1</th>\n",
       "      <td>\\nCHAPTER ONE</td>\n",
       "      <td>english</td>\n",
       "      <td>[chapter, one]</td>\n",
       "      <td>[chapter, one]</td>\n",
       "    </tr>\n",
       "    <tr>\n",
       "      <th>2</th>\n",
       "      <td>THE BOY WHO LIVED</td>\n",
       "      <td>english</td>\n",
       "      <td>[the, boy, who, lived]</td>\n",
       "      <td>[boy, lived]</td>\n",
       "    </tr>\n",
       "    <tr>\n",
       "      <th>3</th>\n",
       "      <td>Mr. and Mrs. Dursley, of number four, Privet D...</td>\n",
       "      <td>english</td>\n",
       "      <td>[mr, and, mrs, dursley, of, number, four, priv...</td>\n",
       "      <td>[mr, mrs, dursley, number, four, privet, drive...</td>\n",
       "    </tr>\n",
       "    <tr>\n",
       "      <th>4</th>\n",
       "      <td>Mr. Dursley was the director of a firm called ...</td>\n",
       "      <td>english</td>\n",
       "      <td>[mr, dursley, was, the, director, of, a, firm,...</td>\n",
       "      <td>[mr, dursley, director, firm, called, grunning...</td>\n",
       "    </tr>\n",
       "  </tbody>\n",
       "</table>\n",
       "</div>"
      ],
      "text/plain": [
       "                                                text    label  \\\n",
       "0              Harry Potter and the Sorcerer's Stone  english   \n",
       "1                                      \\nCHAPTER ONE  english   \n",
       "2                                  THE BOY WHO LIVED  english   \n",
       "3  Mr. and Mrs. Dursley, of number four, Privet D...  english   \n",
       "4  Mr. Dursley was the director of a firm called ...  english   \n",
       "\n",
       "                                          clean_text  \\\n",
       "0        [harry, potter, and, the, sorcerers, stone]   \n",
       "1                                     [chapter, one]   \n",
       "2                             [the, boy, who, lived]   \n",
       "3  [mr, and, mrs, dursley, of, number, four, priv...   \n",
       "4  [mr, dursley, was, the, director, of, a, firm,...   \n",
       "\n",
       "                                          clean_data  \n",
       "0                  [harry, potter, sorcerers, stone]  \n",
       "1                                     [chapter, one]  \n",
       "2                                       [boy, lived]  \n",
       "3  [mr, mrs, dursley, number, four, privet, drive...  \n",
       "4  [mr, dursley, director, firm, called, grunning...  "
      ]
     },
     "execution_count": 21,
     "metadata": {},
     "output_type": "execute_result"
    }
   ],
   "source": [
    "df.head()"
   ]
  },
  {
   "cell_type": "markdown",
   "id": "eb04da3e",
   "metadata": {},
   "source": [
    "## Lemmatizer"
   ]
  },
  {
   "cell_type": "code",
   "execution_count": 22,
   "id": "9036b283",
   "metadata": {},
   "outputs": [],
   "source": [
    "wn = nltk.WordNetLemmatizer()"
   ]
  },
  {
   "cell_type": "code",
   "execution_count": 23,
   "id": "342c3080",
   "metadata": {},
   "outputs": [],
   "source": [
    "def lemmatizing(text):\n",
    "    text = [wn.lemmatize(word) for word in text]\n",
    "    return text"
   ]
  },
  {
   "cell_type": "code",
   "execution_count": 24,
   "id": "b8dfee02",
   "metadata": {},
   "outputs": [
    {
     "data": {
      "text/html": [
       "<div>\n",
       "<style scoped>\n",
       "    .dataframe tbody tr th:only-of-type {\n",
       "        vertical-align: middle;\n",
       "    }\n",
       "\n",
       "    .dataframe tbody tr th {\n",
       "        vertical-align: top;\n",
       "    }\n",
       "\n",
       "    .dataframe thead th {\n",
       "        text-align: right;\n",
       "    }\n",
       "</style>\n",
       "<table border=\"1\" class=\"dataframe\">\n",
       "  <thead>\n",
       "    <tr style=\"text-align: right;\">\n",
       "      <th></th>\n",
       "      <th>text</th>\n",
       "      <th>label</th>\n",
       "      <th>clean_text</th>\n",
       "      <th>clean_data</th>\n",
       "      <th>tokens</th>\n",
       "    </tr>\n",
       "  </thead>\n",
       "  <tbody>\n",
       "    <tr>\n",
       "      <th>0</th>\n",
       "      <td>Harry Potter and the Sorcerer's Stone</td>\n",
       "      <td>english</td>\n",
       "      <td>[harry, potter, and, the, sorcerers, stone]</td>\n",
       "      <td>[harry, potter, sorcerers, stone]</td>\n",
       "      <td>[harry, potter, and, the, sorcerer, stone]</td>\n",
       "    </tr>\n",
       "    <tr>\n",
       "      <th>1</th>\n",
       "      <td>\\nCHAPTER ONE</td>\n",
       "      <td>english</td>\n",
       "      <td>[chapter, one]</td>\n",
       "      <td>[chapter, one]</td>\n",
       "      <td>[chapter, one]</td>\n",
       "    </tr>\n",
       "    <tr>\n",
       "      <th>2</th>\n",
       "      <td>THE BOY WHO LIVED</td>\n",
       "      <td>english</td>\n",
       "      <td>[the, boy, who, lived]</td>\n",
       "      <td>[boy, lived]</td>\n",
       "      <td>[the, boy, who, lived]</td>\n",
       "    </tr>\n",
       "    <tr>\n",
       "      <th>3</th>\n",
       "      <td>Mr. and Mrs. Dursley, of number four, Privet D...</td>\n",
       "      <td>english</td>\n",
       "      <td>[mr, and, mrs, dursley, of, number, four, priv...</td>\n",
       "      <td>[mr, mrs, dursley, number, four, privet, drive...</td>\n",
       "      <td>[mr, and, mr, dursley, of, number, four, prive...</td>\n",
       "    </tr>\n",
       "    <tr>\n",
       "      <th>4</th>\n",
       "      <td>Mr. Dursley was the director of a firm called ...</td>\n",
       "      <td>english</td>\n",
       "      <td>[mr, dursley, was, the, director, of, a, firm,...</td>\n",
       "      <td>[mr, dursley, director, firm, called, grunning...</td>\n",
       "      <td>[mr, dursley, wa, the, director, of, a, firm, ...</td>\n",
       "    </tr>\n",
       "    <tr>\n",
       "      <th>5</th>\n",
       "      <td>The Dursleys had everything they wanted, but t...</td>\n",
       "      <td>english</td>\n",
       "      <td>[the, dursleys, had, everything, they, wanted,...</td>\n",
       "      <td>[dursleys, everything, wanted, also, secret, a...</td>\n",
       "      <td>[the, dursleys, had, everything, they, wanted,...</td>\n",
       "    </tr>\n",
       "    <tr>\n",
       "      <th>6</th>\n",
       "      <td>When Mr. and Mrs. Dursley woke up on the dull,...</td>\n",
       "      <td>english</td>\n",
       "      <td>[when, mr, and, mrs, dursley, woke, up, on, th...</td>\n",
       "      <td>[mr, mrs, dursley, woke, dull, gray, tuesday, ...</td>\n",
       "      <td>[when, mr, and, mr, dursley, woke, up, on, the...</td>\n",
       "    </tr>\n",
       "    <tr>\n",
       "      <th>7</th>\n",
       "      <td>None of them noticed a large, tawny owl flutte...</td>\n",
       "      <td>english</td>\n",
       "      <td>[none, of, them, noticed, a, large, tawny, owl...</td>\n",
       "      <td>[none, noticed, large, tawny, owl, flutter, pa...</td>\n",
       "      <td>[none, of, them, noticed, a, large, tawny, owl...</td>\n",
       "    </tr>\n",
       "    <tr>\n",
       "      <th>8</th>\n",
       "      <td>At half past eight, Mr. Dursley picked up his ...</td>\n",
       "      <td>english</td>\n",
       "      <td>[at, half, past, eight, mr, dursley, picked, u...</td>\n",
       "      <td>[half, past, eight, mr, dursley, picked, brief...</td>\n",
       "      <td>[at, half, past, eight, mr, dursley, picked, u...</td>\n",
       "    </tr>\n",
       "    <tr>\n",
       "      <th>9</th>\n",
       "      <td>It was on the corner of the street that he not...</td>\n",
       "      <td>english</td>\n",
       "      <td>[it, was, on, the, corner, of, the, street, th...</td>\n",
       "      <td>[corner, street, noticed, first, sign, ofsomet...</td>\n",
       "      <td>[it, wa, on, the, corner, of, the, street, tha...</td>\n",
       "    </tr>\n",
       "  </tbody>\n",
       "</table>\n",
       "</div>"
      ],
      "text/plain": [
       "                                                text    label  \\\n",
       "0              Harry Potter and the Sorcerer's Stone  english   \n",
       "1                                      \\nCHAPTER ONE  english   \n",
       "2                                  THE BOY WHO LIVED  english   \n",
       "3  Mr. and Mrs. Dursley, of number four, Privet D...  english   \n",
       "4  Mr. Dursley was the director of a firm called ...  english   \n",
       "5  The Dursleys had everything they wanted, but t...  english   \n",
       "6  When Mr. and Mrs. Dursley woke up on the dull,...  english   \n",
       "7  None of them noticed a large, tawny owl flutte...  english   \n",
       "8  At half past eight, Mr. Dursley picked up his ...  english   \n",
       "9  It was on the corner of the street that he not...  english   \n",
       "\n",
       "                                          clean_text  \\\n",
       "0        [harry, potter, and, the, sorcerers, stone]   \n",
       "1                                     [chapter, one]   \n",
       "2                             [the, boy, who, lived]   \n",
       "3  [mr, and, mrs, dursley, of, number, four, priv...   \n",
       "4  [mr, dursley, was, the, director, of, a, firm,...   \n",
       "5  [the, dursleys, had, everything, they, wanted,...   \n",
       "6  [when, mr, and, mrs, dursley, woke, up, on, th...   \n",
       "7  [none, of, them, noticed, a, large, tawny, owl...   \n",
       "8  [at, half, past, eight, mr, dursley, picked, u...   \n",
       "9  [it, was, on, the, corner, of, the, street, th...   \n",
       "\n",
       "                                          clean_data  \\\n",
       "0                  [harry, potter, sorcerers, stone]   \n",
       "1                                     [chapter, one]   \n",
       "2                                       [boy, lived]   \n",
       "3  [mr, mrs, dursley, number, four, privet, drive...   \n",
       "4  [mr, dursley, director, firm, called, grunning...   \n",
       "5  [dursleys, everything, wanted, also, secret, a...   \n",
       "6  [mr, mrs, dursley, woke, dull, gray, tuesday, ...   \n",
       "7  [none, noticed, large, tawny, owl, flutter, pa...   \n",
       "8  [half, past, eight, mr, dursley, picked, brief...   \n",
       "9  [corner, street, noticed, first, sign, ofsomet...   \n",
       "\n",
       "                                              tokens  \n",
       "0         [harry, potter, and, the, sorcerer, stone]  \n",
       "1                                     [chapter, one]  \n",
       "2                             [the, boy, who, lived]  \n",
       "3  [mr, and, mr, dursley, of, number, four, prive...  \n",
       "4  [mr, dursley, wa, the, director, of, a, firm, ...  \n",
       "5  [the, dursleys, had, everything, they, wanted,...  \n",
       "6  [when, mr, and, mr, dursley, woke, up, on, the...  \n",
       "7  [none, of, them, noticed, a, large, tawny, owl...  \n",
       "8  [at, half, past, eight, mr, dursley, picked, u...  \n",
       "9  [it, wa, on, the, corner, of, the, street, tha...  "
      ]
     },
     "execution_count": 24,
     "metadata": {},
     "output_type": "execute_result"
    }
   ],
   "source": [
    "df['tokens'] = df['clean_text'].apply(lambda x: lemmatizing(x))\n",
    "df.head(10)"
   ]
  },
  {
   "cell_type": "code",
   "execution_count": 25,
   "id": "d5b9a299",
   "metadata": {},
   "outputs": [],
   "source": [
    "del df['clean_data']\n",
    "del df['clean_text']\n",
    "del df['text']"
   ]
  },
  {
   "cell_type": "code",
   "execution_count": 26,
   "id": "e6c029f9",
   "metadata": {},
   "outputs": [
    {
     "data": {
      "text/html": [
       "<div>\n",
       "<style scoped>\n",
       "    .dataframe tbody tr th:only-of-type {\n",
       "        vertical-align: middle;\n",
       "    }\n",
       "\n",
       "    .dataframe tbody tr th {\n",
       "        vertical-align: top;\n",
       "    }\n",
       "\n",
       "    .dataframe thead th {\n",
       "        text-align: right;\n",
       "    }\n",
       "</style>\n",
       "<table border=\"1\" class=\"dataframe\">\n",
       "  <thead>\n",
       "    <tr style=\"text-align: right;\">\n",
       "      <th></th>\n",
       "      <th>label</th>\n",
       "      <th>tokens</th>\n",
       "      <th>text</th>\n",
       "    </tr>\n",
       "  </thead>\n",
       "  <tbody>\n",
       "    <tr>\n",
       "      <th>0</th>\n",
       "      <td>english</td>\n",
       "      <td>[harry, potter, and, the, sorcerer, stone]</td>\n",
       "      <td>harry potter and the sorcerer stone</td>\n",
       "    </tr>\n",
       "    <tr>\n",
       "      <th>1</th>\n",
       "      <td>english</td>\n",
       "      <td>[chapter, one]</td>\n",
       "      <td>chapter one</td>\n",
       "    </tr>\n",
       "    <tr>\n",
       "      <th>2</th>\n",
       "      <td>english</td>\n",
       "      <td>[the, boy, who, lived]</td>\n",
       "      <td>the boy who lived</td>\n",
       "    </tr>\n",
       "    <tr>\n",
       "      <th>3</th>\n",
       "      <td>english</td>\n",
       "      <td>[mr, and, mr, dursley, of, number, four, prive...</td>\n",
       "      <td>mr and mr dursley of number four privet drive ...</td>\n",
       "    </tr>\n",
       "    <tr>\n",
       "      <th>4</th>\n",
       "      <td>english</td>\n",
       "      <td>[mr, dursley, wa, the, director, of, a, firm, ...</td>\n",
       "      <td>mr dursley wa the director of a firm called gr...</td>\n",
       "    </tr>\n",
       "    <tr>\n",
       "      <th>...</th>\n",
       "      <td>...</td>\n",
       "      <td>...</td>\n",
       "      <td>...</td>\n",
       "    </tr>\n",
       "    <tr>\n",
       "      <th>14</th>\n",
       "      <td>spanish</td>\n",
       "      <td>[el, romanticismo, inició, la, interpretación,...</td>\n",
       "      <td>el romanticismo inició la interpretación figur...</td>\n",
       "    </tr>\n",
       "    <tr>\n",
       "      <th>15</th>\n",
       "      <td>spanish</td>\n",
       "      <td>[durante, el, siglo, xix, el, personaje, cerva...</td>\n",
       "      <td>durante el siglo xix el personaje cervantino s...</td>\n",
       "    </tr>\n",
       "    <tr>\n",
       "      <th>16</th>\n",
       "      <td>spanish</td>\n",
       "      <td>[la, primera, parte, supone, un, avance, consi...</td>\n",
       "      <td>la primera parte supone un avance considerable...</td>\n",
       "    </tr>\n",
       "    <tr>\n",
       "      <th>17</th>\n",
       "      <td>spanish</td>\n",
       "      <td>[la, segunda, parte, e, más, barroca, que, man...</td>\n",
       "      <td>la segunda parte e más barroca que manierista ...</td>\n",
       "    </tr>\n",
       "    <tr>\n",
       "      <th>18</th>\n",
       "      <td>spanish</td>\n",
       "      <td>[como, primera, novela, verdaderamente, realis...</td>\n",
       "      <td>como primera novela verdaderamente realista al...</td>\n",
       "    </tr>\n",
       "  </tbody>\n",
       "</table>\n",
       "<p>12141 rows × 3 columns</p>\n",
       "</div>"
      ],
      "text/plain": [
       "      label                                             tokens  \\\n",
       "0   english         [harry, potter, and, the, sorcerer, stone]   \n",
       "1   english                                     [chapter, one]   \n",
       "2   english                             [the, boy, who, lived]   \n",
       "3   english  [mr, and, mr, dursley, of, number, four, prive...   \n",
       "4   english  [mr, dursley, wa, the, director, of, a, firm, ...   \n",
       "..      ...                                                ...   \n",
       "14  spanish  [el, romanticismo, inició, la, interpretación,...   \n",
       "15  spanish  [durante, el, siglo, xix, el, personaje, cerva...   \n",
       "16  spanish  [la, primera, parte, supone, un, avance, consi...   \n",
       "17  spanish  [la, segunda, parte, e, más, barroca, que, man...   \n",
       "18  spanish  [como, primera, novela, verdaderamente, realis...   \n",
       "\n",
       "                                                 text  \n",
       "0                 harry potter and the sorcerer stone  \n",
       "1                                         chapter one  \n",
       "2                                   the boy who lived  \n",
       "3   mr and mr dursley of number four privet drive ...  \n",
       "4   mr dursley wa the director of a firm called gr...  \n",
       "..                                                ...  \n",
       "14  el romanticismo inició la interpretación figur...  \n",
       "15  durante el siglo xix el personaje cervantino s...  \n",
       "16  la primera parte supone un avance considerable...  \n",
       "17  la segunda parte e más barroca que manierista ...  \n",
       "18  como primera novela verdaderamente realista al...  \n",
       "\n",
       "[12141 rows x 3 columns]"
      ]
     },
     "execution_count": 26,
     "metadata": {},
     "output_type": "execute_result"
    }
   ],
   "source": [
    "df['text'] = df['tokens'].apply(lambda tokens: ' '.join(tokens))\n",
    "df"
   ]
  },
  {
   "cell_type": "code",
   "execution_count": 27,
   "id": "9f4da230",
   "metadata": {},
   "outputs": [],
   "source": [
    "from sklearn.utils import shuffle\n",
    "df = shuffle(df)"
   ]
  },
  {
   "cell_type": "code",
   "execution_count": 28,
   "id": "5bcef3a0",
   "metadata": {},
   "outputs": [],
   "source": [
    "from sklearn.preprocessing import LabelEncoder\n",
    "\n",
    "label_encoder = LabelEncoder()\n",
    "df['label'] = label_encoder.fit_transform(df['label'])"
   ]
  },
  {
   "cell_type": "markdown",
   "id": "81c6e1f4",
   "metadata": {},
   "source": [
    "## Tokenization"
   ]
  },
  {
   "cell_type": "code",
   "execution_count": 29,
   "id": "d793073a",
   "metadata": {},
   "outputs": [],
   "source": [
    "import torch\n",
    "import torch.nn as nn\n",
    "from torch.autograd import Variable\n",
    "import torch.nn.functional as F"
   ]
  },
  {
   "cell_type": "code",
   "execution_count": 30,
   "id": "fcd69b9b",
   "metadata": {},
   "outputs": [],
   "source": [
    "from sklearn.model_selection import train_test_split\n",
    "\n",
    "X_train, X_test, y_train, y_test = train_test_split(df['text'], df['label'], test_size=0.33, random_state=42)"
   ]
  },
  {
   "cell_type": "code",
   "execution_count": 31,
   "id": "b1d95da8",
   "metadata": {},
   "outputs": [],
   "source": [
    "from torchtext.data.utils import get_tokenizer\n",
    "from tensorflow.keras.preprocessing.sequence import pad_sequences\n",
    "from keras.preprocessing.text import Tokenizer\n",
    "max_length = 100\n",
    "tokenizer = Tokenizer()\n",
    "tokenizer.fit_on_texts(X_train)\n",
    "X_train_seq = tokenizer.texts_to_sequences(X_train)\n",
    "X_tr = pad_sequences(X_train_seq, maxlen=max_length)\n",
    "X_test_seq = tokenizer.texts_to_sequences(X_test)\n",
    "X_te = pad_sequences(X_test_seq, maxlen=max_length)"
   ]
  },
  {
   "cell_type": "code",
   "execution_count": 32,
   "id": "8fc7d592",
   "metadata": {},
   "outputs": [
    {
     "data": {
      "text/plain": [
       "8134"
      ]
     },
     "execution_count": 32,
     "metadata": {},
     "output_type": "execute_result"
    }
   ],
   "source": [
    "y_train.size"
   ]
  },
  {
   "cell_type": "code",
   "execution_count": 33,
   "id": "cec9e37c",
   "metadata": {},
   "outputs": [
    {
     "data": {
      "text/plain": [
       "torch.Size([8134, 100])"
      ]
     },
     "execution_count": 33,
     "metadata": {},
     "output_type": "execute_result"
    }
   ],
   "source": [
    "torch.tensor(np.array(X_tr)).shape"
   ]
  },
  {
   "cell_type": "markdown",
   "id": "4588d3d7",
   "metadata": {},
   "source": [
    "## CNN - model"
   ]
  },
  {
   "cell_type": "code",
   "execution_count": 34,
   "id": "be84b7f7",
   "metadata": {},
   "outputs": [],
   "source": [
    "train_dataset = torch.utils.data.TensorDataset(\n",
    "    torch.tensor(np.array(X_tr[:len(y_train)])),\n",
    "    torch.tensor(list(y_train))\n",
    ")\n",
    "\n",
    "test_dataset = torch.utils.data.TensorDataset(\n",
    "    torch.tensor(np.array(X_te[:len(y_test)])),\n",
    "    torch.tensor(list(y_test))\n",
    ")"
   ]
  },
  {
   "cell_type": "code",
   "execution_count": 35,
   "id": "befddec0",
   "metadata": {},
   "outputs": [],
   "source": [
    "class CNN(nn.Module):\n",
    "    def __init__(self, vocabulary_size, embedding_size, kernel_number, kernel_sizes, output_size, dropout_rate):\n",
    "        super(CNN, self).__init__()\n",
    "        self.embedding = nn.Embedding(vocabulary_size, embedding_size)\n",
    "\n",
    "        self.convolution_layers = nn.ModuleList([nn.Conv2d(in_channels=1, out_channels=kernel_number, kernel_size=(k,embedding_size)) \n",
    "                                                for k in kernel_sizes])\n",
    "        self.dropout = nn.Dropout(dropout_rate)\n",
    "        self.fully_connected = nn.Linear(len(kernel_sizes) * kernel_number, output_size) \n",
    "        \n",
    "  \n",
    "    \n",
    "    def forward(self, text):\n",
    "        text = text.permute(1, 0)\n",
    "#         text = text.transpose(0, 1)\n",
    "        input_embeddings = self.embedding(text)\n",
    "        input_embeddings = input_embeddings.unsqueeze(1)\n",
    "        conved = [F.relu(convolution_layer(input_embeddings)).squeeze(3) for convolution_layer in self.convolution_layers]\n",
    "        pooled = [F.max_pool1d(conv, conv.shape[2]).squeeze(2) for conv in conved]\n",
    "        concat = self.dropout(torch.cat(pooled, dim=1))\n",
    "        final_output = self.fully_connected(concat)\n",
    "        return final_output"
   ]
  },
  {
   "cell_type": "code",
   "execution_count": 36,
   "id": "e4e56d20",
   "metadata": {},
   "outputs": [],
   "source": [
    "vocabulary_size = len(tokenizer.word_index) +1\n",
    "input_size = vocabulary_size\n",
    "embedding_size = 100\n",
    "kernel_number = 100\n",
    "kernel_sizes = [2,3,4]\n",
    "output_size = 6\n",
    "dropout_rate = 0.3\n",
    "batch_size = kernel_number"
   ]
  },
  {
   "cell_type": "code",
   "execution_count": 37,
   "id": "8a1c9954",
   "metadata": {},
   "outputs": [
    {
     "name": "stdout",
     "output_type": "stream",
     "text": [
      "torch.Size([8134, 100])\n",
      "torch.Size([8134])\n"
     ]
    }
   ],
   "source": [
    "print(torch.tensor(np.array(X_tr)).shape)\n",
    "print(torch.tensor(list(y_train)).shape)"
   ]
  },
  {
   "cell_type": "code",
   "execution_count": 38,
   "id": "1a1a8194",
   "metadata": {},
   "outputs": [
    {
     "data": {
      "text/plain": [
       "135288"
      ]
     },
     "execution_count": 38,
     "metadata": {},
     "output_type": "execute_result"
    }
   ],
   "source": [
    "len(tokenizer.word_index) +1"
   ]
  },
  {
   "cell_type": "code",
   "execution_count": 39,
   "id": "a0e6fd7d",
   "metadata": {},
   "outputs": [],
   "source": [
    "from torch.utils.data import DataLoader\n",
    "train_loader = DataLoader(train_dataset, batch_size=batch_size, shuffle=False)\n",
    "test_loader = DataLoader(test_dataset, batch_size=batch_size, shuffle=False)"
   ]
  },
  {
   "cell_type": "code",
   "execution_count": 40,
   "id": "6c7aa09f",
   "metadata": {},
   "outputs": [],
   "source": [
    "model = CNN(input_size, embedding_size, kernel_number, kernel_sizes, output_size, dropout_rate)"
   ]
  },
  {
   "cell_type": "code",
   "execution_count": 41,
   "id": "fe58fd6c",
   "metadata": {},
   "outputs": [],
   "source": [
    "import torch.optim as optim\n",
    "\n",
    "criterion = nn.CrossEntropyLoss()\n",
    "\n",
    "optimizer = optim.Adam(model.parameters())"
   ]
  },
  {
   "cell_type": "code",
   "execution_count": 42,
   "id": "ecd8bb3d",
   "metadata": {},
   "outputs": [],
   "source": [
    "def accuracy(predictions, actual_label):\n",
    "    max_predictions = predictions.argmax(dim = 1, keepdim = True, )\n",
    "    correct_predictions = max_predictions.squeeze(1).eq(actual_label)\n",
    "    accuracy = correct_predictions.sum() / torch.FloatTensor([actual_label.shape[0]])\n",
    "    return accuracy"
   ]
  },
  {
   "cell_type": "code",
   "execution_count": 43,
   "id": "4c49e670",
   "metadata": {},
   "outputs": [],
   "source": [
    "def train(model, iterator, optimizer, criterion):\n",
    "\n",
    "    model.train()\n",
    "    epoch_loss = 0\n",
    "    epoch_acc = 0\n",
    "    \n",
    "    for inputs, labels in iterator:\n",
    "\n",
    "        \n",
    "        \n",
    "        if inputs.shape[0] == 100:\n",
    "            optimizer.zero_grad()\n",
    "            predictions = model(inputs)\n",
    "\n",
    "            loss = criterion(predictions, labels)\n",
    "\n",
    "            acc = accuracy(predictions, labels)\n",
    "\n",
    "            loss.backward()\n",
    "        \n",
    "            optimizer.step()\n",
    "        \n",
    "            epoch_loss += loss.item()\n",
    "            epoch_acc += acc.item()\n",
    "        \n",
    "    return epoch_loss / len(iterator), epoch_acc / len(iterator)"
   ]
  },
  {
   "cell_type": "code",
   "execution_count": 44,
   "id": "af5d1c87",
   "metadata": {},
   "outputs": [],
   "source": [
    "def evaluate(model, iterator, criterion):\n",
    "\n",
    "    model.eval()\n",
    "    epoch_loss = 0\n",
    "    epoch_acc = 0\n",
    "    \n",
    "    with torch.no_grad():\n",
    "    \n",
    "        for inputs, labels in iterator:\n",
    "            if inputs.shape[0] == 100:\n",
    "\n",
    "                predictions = model(inputs)\n",
    "                loss = criterion(predictions, labels)\n",
    "                acc = accuracy(predictions, labels)\n",
    "            epoch_loss += loss.item()\n",
    "            epoch_acc += acc.item()\n",
    "\n",
    "    return epoch_loss / len(iterator), epoch_acc / len(iterator)"
   ]
  },
  {
   "cell_type": "code",
   "execution_count": 45,
   "id": "e7c03e5f",
   "metadata": {},
   "outputs": [
    {
     "name": "stdout",
     "output_type": "stream",
     "text": [
      "Epoch 1 \n",
      "\tTrain Loss: 0.618 | Train Acc: 81.96%\n",
      "Epoch 2 \n",
      "\tTrain Loss: 0.515 | Train Acc: 83.61%\n",
      "Epoch 3 \n",
      "\tTrain Loss: 0.482 | Train Acc: 83.63%\n",
      "Epoch 4 \n",
      "\tTrain Loss: 0.441 | Train Acc: 83.95%\n",
      "Epoch 5 \n",
      "\tTrain Loss: 0.394 | Train Acc: 85.20%\n",
      "Epoch 6 \n",
      "\tTrain Loss: 0.337 | Train Acc: 86.79%\n",
      "Epoch 7 \n",
      "\tTrain Loss: 0.285 | Train Acc: 88.63%\n",
      "Epoch 8 \n",
      "\tTrain Loss: 0.234 | Train Acc: 90.68%\n",
      "Epoch 9 \n",
      "\tTrain Loss: 0.193 | Train Acc: 92.37%\n",
      "Epoch 10 \n",
      "\tTrain Loss: 0.163 | Train Acc: 93.51%\n",
      "Epoch 11 \n",
      "\tTrain Loss: 0.135 | Train Acc: 94.90%\n",
      "Epoch 12 \n",
      "\tTrain Loss: 0.107 | Train Acc: 95.62%\n",
      "Epoch 13 \n",
      "\tTrain Loss: 0.093 | Train Acc: 96.20%\n",
      "Epoch 14 \n",
      "\tTrain Loss: 0.086 | Train Acc: 96.22%\n",
      "Epoch 15 \n",
      "\tTrain Loss: 0.073 | Train Acc: 96.65%\n",
      "Epoch 16 \n",
      "\tTrain Loss: 0.068 | Train Acc: 96.91%\n",
      "Epoch 17 \n",
      "\tTrain Loss: 0.064 | Train Acc: 97.01%\n",
      "Epoch 18 \n",
      "\tTrain Loss: 0.056 | Train Acc: 97.41%\n",
      "Epoch 19 \n",
      "\tTrain Loss: 0.048 | Train Acc: 97.43%\n",
      "Epoch 20 \n",
      "\tTrain Loss: 0.043 | Train Acc: 97.60%\n"
     ]
    }
   ],
   "source": [
    "number_of_epochs = 20\n",
    "best_acc = float('-inf')\n",
    "\n",
    "for epoch in range(number_of_epochs):\n",
    "    train_loss, train_acc = train(model, train_loader, optimizer, criterion)\n",
    "    test_loss, test_acc = evaluate(model, test_loader, criterion)\n",
    "    \n",
    "    if test_acc > best_acc:\n",
    "        best_acc = test_acc\n",
    "        torch.save(model.state_dict(), 'trec.pt')\n",
    "    \n",
    "    print(f'Epoch {epoch+1} ')\n",
    "    print(f'\\tTrain Loss: {train_loss:.3f} | Train Acc: {train_acc*100:.2f}%')"
   ]
  },
  {
   "cell_type": "code",
   "execution_count": 46,
   "id": "1f261aa9",
   "metadata": {},
   "outputs": [
    {
     "name": "stdout",
     "output_type": "stream",
     "text": [
      "Test Loss: 0.545 | Test Acc: 84.44%\n"
     ]
    }
   ],
   "source": [
    "model.load_state_dict(torch.load('trec.pt'))\n",
    "\n",
    "test_loss, test_acc = evaluate(model, test_loader, criterion)\n",
    "\n",
    "print(f'Test Loss: {test_loss:.3f} | Test Acc: {test_acc*100:.2f}%')"
   ]
  },
  {
   "cell_type": "code",
   "execution_count": null,
   "id": "8b82e19e",
   "metadata": {},
   "outputs": [],
   "source": []
  }
 ],
 "metadata": {
  "kernelspec": {
   "display_name": "Python 3 (ipykernel)",
   "language": "python",
   "name": "python3"
  },
  "language_info": {
   "codemirror_mode": {
    "name": "ipython",
    "version": 3
   },
   "file_extension": ".py",
   "mimetype": "text/x-python",
   "name": "python",
   "nbconvert_exporter": "python",
   "pygments_lexer": "ipython3",
   "version": "3.9.12"
  }
 },
 "nbformat": 4,
 "nbformat_minor": 5
}
